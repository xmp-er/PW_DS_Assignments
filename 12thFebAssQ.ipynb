{
 "cells": [
  {
   "cell_type": "code",
   "execution_count": null,
   "id": "d4f6a8b8-aa83-4b5d-b151-d5f34abe6931",
   "metadata": {},
   "outputs": [],
   "source": [
    "ANS-1-An exception in python is when a error is raised in the program.Syntax errors are caused due to improper syntax of the variable or the writing method whereas exception is raised due to issues such as accesing a index that is out of bounds of the data structure or accessing something that does not exist or doing impossible calculations such as dividing by zero etc."
   ]
  },
  {
   "cell_type": "code",
   "execution_count": 2,
   "id": "7c143a3b-6dee-4408-be53-b7178cf2aa4a",
   "metadata": {},
   "outputs": [],
   "source": [
    "ANS-2-When a exception is not handled,the program will crash whenever the exception is raised whereas if the exception is handled then the rest of the program will continue to go on with the exception raised and the try block code not being executed.Ex:-"
   ]
  },
  {
   "cell_type": "code",
   "execution_count": 4,
   "id": "de3e4dcc-bcff-4c08-9bbe-34d4e35a34de",
   "metadata": {},
   "outputs": [
    {
     "ename": "ZeroDivisionError",
     "evalue": "division by zero",
     "output_type": "error",
     "traceback": [
      "\u001b[0;31m---------------------------------------------------------------------------\u001b[0m",
      "\u001b[0;31mZeroDivisionError\u001b[0m                         Traceback (most recent call last)",
      "Cell \u001b[0;32mIn[4], line 3\u001b[0m\n\u001b[1;32m      1\u001b[0m a\u001b[38;5;241m=\u001b[39m\u001b[38;5;241m0\u001b[39m\n\u001b[1;32m      2\u001b[0m b\u001b[38;5;241m=\u001b[39m\u001b[38;5;241m1\u001b[39m\n\u001b[0;32m----> 3\u001b[0m \u001b[38;5;28mprint\u001b[39m(\u001b[43mb\u001b[49m\u001b[38;5;241;43m/\u001b[39;49m\u001b[43ma\u001b[49m) \u001b[38;5;66;03m#exception will be raised and rest of the code will not be executed\u001b[39;00m\n\u001b[1;32m      4\u001b[0m \u001b[38;5;28mprint\u001b[39m(\u001b[38;5;241m1\u001b[39m)\n",
      "\u001b[0;31mZeroDivisionError\u001b[0m: division by zero"
     ]
    }
   ],
   "source": [
    "a=0\n",
    "b=1\n",
    "print(b/a) #exception will be raised and rest of the code will not be executed\n",
    "print(1)"
   ]
  },
  {
   "cell_type": "code",
   "execution_count": 6,
   "id": "b248789d-74e4-4b97-a2d1-b1879c8e078e",
   "metadata": {},
   "outputs": [
    {
     "name": "stdout",
     "output_type": "stream",
     "text": [
      "error is  division by zero\n",
      "1\n"
     ]
    }
   ],
   "source": [
    "#this is the example when the exception is handled so the rest of the program executes\n",
    "try:\n",
    "    a=0\n",
    "    b=1\n",
    "    print(b/a)\n",
    "except Exception as e:\n",
    "    print(\"error is \",e)\n",
    "print(1)"
   ]
  },
  {
   "cell_type": "code",
   "execution_count": null,
   "id": "1b15ea46-fefa-42b6-9e64-698fab9dc4aa",
   "metadata": {},
   "outputs": [],
   "source": [
    "ANS-3-the \"except Exception as e\" statement is used to handle exceptions and the try statement is used to catch exceptions Ex:-"
   ]
  },
  {
   "cell_type": "code",
   "execution_count": 7,
   "id": "57aecef2-2249-41cb-b3a8-8d93f5a67c60",
   "metadata": {},
   "outputs": [
    {
     "name": "stdout",
     "output_type": "stream",
     "text": [
      "unsupported operand type(s) for +: 'int' and 'list'\n"
     ]
    }
   ],
   "source": [
    "try:\n",
    "    a=1\n",
    "    b=[]\n",
    "    a+b\n",
    "except Exception as e:\n",
    "    print(e)"
   ]
  },
  {
   "cell_type": "code",
   "execution_count": 19,
   "id": "df52e224-ea9b-4295-885b-c38524307d11",
   "metadata": {},
   "outputs": [
    {
     "name": "stdin",
     "output_type": "stream",
     "text": [
      "Enter the string sdsd\n"
     ]
    },
    {
     "name": "stdout",
     "output_type": "stream",
     "text": [
      "The string is not a list\n",
      "The string has been processed\n"
     ]
    }
   ],
   "source": [
    "#ANS-4-\n",
    "class cust_msg(Exception):\n",
    "    def __init__(self,msg):\n",
    "        self.msg=msg\n",
    "def check_len(k):\n",
    "    if(type(k)!=list):\n",
    "        raise cust_msg(\"The string is not a list\")\n",
    "try:\n",
    "    k=input(\"Enter the string\")\n",
    "    check_len(k)\n",
    "except Exception as e:\n",
    "    print(e)\n",
    "else:\n",
    "    print(\"This is a valid string \")\n",
    "finally:\n",
    "    print(\"The string has been processed\")"
   ]
  },
  {
   "cell_type": "code",
   "execution_count": 20,
   "id": "6e118024-9087-4625-8344-db40896c5045",
   "metadata": {},
   "outputs": [],
   "source": [
    "ANS-5-\n",
    "Custom exceptions are the exceptions defined by the user and usually contain custom condition checking and raising a exception if that\n",
    "condition is not met.We need custom exceptions to define custom conditions in which we can raise error if they are not met which are not\n",
    "internally defined by python a example of that is as follows:-"
   ]
  },
  {
   "cell_type": "code",
   "execution_count": null,
   "id": "978cd69c-008c-4b4e-98ba-fd3990f86693",
   "metadata": {},
   "outputs": [],
   "source": [
    "class e1(Exception):\n",
    "    def __init__(self,msg):\n",
    "        self.msg=msg\n",
    "def check_if_list_len_smaller_than_10(a):\n",
    "    if(len(a)<10):\n",
    "        raise e1(\"The array length is smaller than 10\")\n",
    "try:\n",
    "    a=[1,2,3]\n",
    "    check_if_list_len_smaller_than_10(a)\n",
    "    "
   ]
  }
 ],
 "metadata": {
  "kernelspec": {
   "display_name": "Python 3 (ipykernel)",
   "language": "python",
   "name": "python3"
  },
  "language_info": {
   "codemirror_mode": {
    "name": "ipython",
    "version": 3
   },
   "file_extension": ".py",
   "mimetype": "text/x-python",
   "name": "python",
   "nbconvert_exporter": "python",
   "pygments_lexer": "ipython3",
   "version": "3.10.8"
  }
 },
 "nbformat": 4,
 "nbformat_minor": 5
}
