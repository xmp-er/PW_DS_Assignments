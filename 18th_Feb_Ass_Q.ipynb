{
 "cells": [
  {
   "cell_type": "code",
   "execution_count": null,
   "id": "25a57b95-2007-4cac-88df-364a5ec5bfab",
   "metadata": {},
   "outputs": [],
   "source": [
    "ANS-1-\n",
    "An API is a gateway between two applications which may be heterogeneous or homogenous i.e may be built on the same code/franework or not,it does not matter as they can communicate data with each other using API.An example is we can create any app that uses the Google Map API to fetch realtime map data from the Google servers and display it on our app locally"
   ]
  },
  {
   "cell_type": "code",
   "execution_count": null,
   "id": "78f42f01-4afe-4c9e-9101-1c2601c8606f",
   "metadata": {},
   "outputs": [],
   "source": [
    "ANS-2-\n",
    "Advantages of using a API are it lets us communcicate between two applications seamlessly and lets us exchange data and the disadvantages might be the compromise to security due to sending and recieving data.\n"
   ]
  },
  {
   "cell_type": "code",
   "execution_count": null,
   "id": "00875846-2573-462b-8389-2db2e303a701",
   "metadata": {},
   "outputs": [],
   "source": [
    "ANS-3-\n",
    "API's that use the HTTPS protocol and are used for services over the web like google search engine etc are called web api's where the simple api's are the ones that use TCP protocols and such.\n"
   ]
  },
  {
   "cell_type": "code",
   "execution_count": null,
   "id": "c923d910-dd82-41ea-a5d2-4508f2ea15c4",
   "metadata": {},
   "outputs": [],
   "source": [
    "ANS-4-\n",
    "REST is simple lightweight scalable and used GET,POST,DELETE,PUT methods and is a stateless cacheable protocal whereas SOAP uses XML-based messaging protocola and is compaiotaible with all servers and is more secure compared to REST,the only disadvantage that it has is it is more complex and harder to code which is why people opt for REST architechture.\n"
   ]
  },
  {
   "cell_type": "code",
   "execution_count": null,
   "id": "fb1838e3-553a-4761-a827-2ef72b82e4e3",
   "metadata": {},
   "outputs": [],
   "source": [
    "ANS-5-\n",
    "REST is simple lightweight scalable and used GET,POST,DELETE,PUT methods and is a stateless cacheable protocal whereas SOAP uses XML-based messaging protocola and is compaiotaible with all servers and is more secure compared to REST,the only disadvantage that it has is it is more complex and harder to code which is why people opt for REST architechture."
   ]
  }
 ],
 "metadata": {
  "kernelspec": {
   "display_name": "Python 3 (ipykernel)",
   "language": "python",
   "name": "python3"
  },
  "language_info": {
   "codemirror_mode": {
    "name": "ipython",
    "version": 3
   },
   "file_extension": ".py",
   "mimetype": "text/x-python",
   "name": "python",
   "nbconvert_exporter": "python",
   "pygments_lexer": "ipython3",
   "version": "3.10.8"
  }
 },
 "nbformat": 4,
 "nbformat_minor": 5
}
