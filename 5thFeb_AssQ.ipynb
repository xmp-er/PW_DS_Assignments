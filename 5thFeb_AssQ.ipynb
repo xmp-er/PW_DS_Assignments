{
 "cells": [
  {
   "cell_type": "markdown",
   "id": "7a7c78e7-0008-420f-9469-d06733c21381",
   "metadata": {},
   "source": [
    "Class is a bluperint of the model that we want to create and the object is the instance or the actualization of the class with the specefic function,methods and variable we want in addition to the class."
   ]
  },
  {
   "cell_type": "markdown",
   "id": "1fe3ab49-f70f-4126-bdf1-cb1840ed4d2e",
   "metadata": {},
   "source": [
    "Inheritance, Polymorphism, Encapsulation and Abstraction"
   ]
  },
  {
   "cell_type": "markdown",
   "id": "4749c814-d086-43a8-888a-7a3c5daf7e65",
   "metadata": {},
   "source": [
    "The __init__() function is used as a constructor to initialize the default values for when a object of a class is instantiated and as we want to assign different values when a object is initialized,we can use the constructor to take parameters which will be the attributes of the object when initialized"
   ]
  },
  {
   "cell_type": "markdown",
   "id": "76707344-e83f-4531-872e-0d57c920a782",
   "metadata": {},
   "source": [
    "The self parameter is a reference to the instance being created and is used to access attributes and methods of the class."
   ]
  },
  {
   "cell_type": "markdown",
   "id": "7947fcea-91f3-4ef5-baf8-6de70ec3d420",
   "metadata": {},
   "source": [
    "Not yet taught"
   ]
  },
  {
   "cell_type": "code",
   "execution_count": null,
   "id": "64dc3f3c-ed71-4f31-b8dd-82be38f9b2eb",
   "metadata": {},
   "outputs": [],
   "source": []
  },
  {
   "cell_type": "code",
   "execution_count": null,
   "id": "dbe2d407-bee2-46ad-a85e-f0e25cf718eb",
   "metadata": {},
   "outputs": [],
   "source": []
  },
  {
   "cell_type": "code",
   "execution_count": null,
   "id": "7579fd88-5a2e-4806-9de3-aa1a72a2d9f8",
   "metadata": {},
   "outputs": [],
   "source": []
  }
 ],
 "metadata": {
  "kernelspec": {
   "display_name": "Python 3 (ipykernel)",
   "language": "python",
   "name": "python3"
  },
  "language_info": {
   "codemirror_mode": {
    "name": "ipython",
    "version": 3
   },
   "file_extension": ".py",
   "mimetype": "text/x-python",
   "name": "python",
   "nbconvert_exporter": "python",
   "pygments_lexer": "ipython3",
   "version": "3.10.8"
  }
 },
 "nbformat": 4,
 "nbformat_minor": 5
}
