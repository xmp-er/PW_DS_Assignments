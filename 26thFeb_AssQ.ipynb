{
 "cells": [
  {
   "cell_type": "code",
   "execution_count": 4,
   "id": "e29accdf-acf1-43e9-bd10-3688273ee28b",
   "metadata": {},
   "outputs": [],
   "source": [
    "import numpy as np\n",
    "list_ = [ '1' , '2' , '3' , '4' , '5' ]\n",
    "array_list = np.array(object = list_)"
   ]
  },
  {
   "cell_type": "code",
   "execution_count": null,
   "id": "65e3193f-e7fe-42ab-8f1c-eda9f2403319",
   "metadata": {},
   "outputs": [],
   "source": [
    "#ANS-1\n",
    "yes list_ is a list data type and array_list is a object of ndArray data type"
   ]
  },
  {
   "cell_type": "code",
   "execution_count": 9,
   "id": "d381be03-a0e7-425d-997c-9b1d9bd51eff",
   "metadata": {},
   "outputs": [
    {
     "name": "stdout",
     "output_type": "stream",
     "text": [
      "<class 'numpy.ndarray'>\n",
      "<class 'list'>\n"
     ]
    }
   ],
   "source": [
    "print(type(array_list))\n",
    "print(type(list_))"
   ]
  },
  {
   "cell_type": "code",
   "execution_count": 12,
   "id": "cabaf28f-f051-4454-8437-13a0d2676c23",
   "metadata": {},
   "outputs": [
    {
     "name": "stdout",
     "output_type": "stream",
     "text": [
      "<class 'str'>\n",
      "<class 'str'>\n",
      "<class 'str'>\n",
      "<class 'str'>\n",
      "<class 'str'>\n",
      "<class 'numpy.str_'>\n",
      "<class 'numpy.str_'>\n",
      "<class 'numpy.str_'>\n",
      "<class 'numpy.str_'>\n",
      "<class 'numpy.str_'>\n"
     ]
    }
   ],
   "source": [
    "#ANS-2-\n",
    "def print_dtype(x):\n",
    "    for i in x:\n",
    "        print(type(i))\n",
    "print_dtype(list_)\n",
    "print_dtype(array_list)"
   ]
  },
  {
   "cell_type": "code",
   "execution_count": 17,
   "id": "95f1bdec-6e78-4a77-999b-9fa3eab564bc",
   "metadata": {},
   "outputs": [],
   "source": [
    "#ANS-3-\n",
    "array_list = np.array(object = list_, dtype = int)\n",
    "\n",
    "\n",
    "Yes the change in elements of array_list will be that every element will now be a int data type"
   ]
  },
  {
   "cell_type": "code",
   "execution_count": 18,
   "id": "3efd5a9c-8cc0-4265-84ae-d33f0317328d",
   "metadata": {},
   "outputs": [
    {
     "name": "stdout",
     "output_type": "stream",
     "text": [
      "<class 'numpy.int64'>\n",
      "<class 'numpy.int64'>\n",
      "<class 'numpy.int64'>\n",
      "<class 'numpy.int64'>\n",
      "<class 'numpy.int64'>\n",
      "<class 'str'>\n",
      "<class 'str'>\n",
      "<class 'str'>\n",
      "<class 'str'>\n",
      "<class 'str'>\n"
     ]
    }
   ],
   "source": [
    "print_dtype(array_list)\n",
    "print_dtype(list_)"
   ]
  },
  {
   "cell_type": "code",
   "execution_count": 19,
   "id": "8158b086-acc4-4e93-bec1-569a66dec732",
   "metadata": {},
   "outputs": [],
   "source": [
    "#ANS-4-\n",
    "import numpy as np\n",
    "num_list = [ [ 1 , 2 , 3 ] , [ 4 , 5 , 6 ] ]\n",
    "num_array = np.array(object = num_list)"
   ]
  },
  {
   "cell_type": "code",
   "execution_count": 20,
   "id": "5954125f-5651-44c2-92ec-4422b91a0232",
   "metadata": {},
   "outputs": [
    {
     "name": "stdout",
     "output_type": "stream",
     "text": [
      "6\n",
      "(2, 3)\n"
     ]
    }
   ],
   "source": [
    "print(num_array.size)\n",
    "print(num_array.shape)"
   ]
  },
  {
   "cell_type": "code",
   "execution_count": 22,
   "id": "86dbee04-9e5a-43ea-92f1-069031512103",
   "metadata": {},
   "outputs": [
    {
     "data": {
      "text/plain": [
       "array([[0., 0., 0.],\n",
       "       [0., 0., 0.],\n",
       "       [0., 0., 0.]])"
      ]
     },
     "execution_count": 22,
     "metadata": {},
     "output_type": "execute_result"
    }
   ],
   "source": [
    "#ANS-5-\n",
    "np.zeros((3,3))"
   ]
  },
  {
   "cell_type": "code",
   "execution_count": 23,
   "id": "f5b576b5-4414-4c76-91b6-737aa1c28421",
   "metadata": {},
   "outputs": [
    {
     "data": {
      "text/plain": [
       "array([[1., 0., 0., 0., 0.],\n",
       "       [0., 1., 0., 0., 0.],\n",
       "       [0., 0., 1., 0., 0.],\n",
       "       [0., 0., 0., 1., 0.],\n",
       "       [0., 0., 0., 0., 1.]])"
      ]
     },
     "execution_count": 23,
     "metadata": {},
     "output_type": "execute_result"
    }
   ],
   "source": [
    "#ANS-6-\n",
    "np.eye(5)"
   ]
  },
  {
   "cell_type": "code",
   "execution_count": null,
   "id": "aa3dcb8a-ceb4-478e-a5b1-29c56f9ce7a2",
   "metadata": {},
   "outputs": [],
   "source": []
  }
 ],
 "metadata": {
  "kernelspec": {
   "display_name": "Python 3 (ipykernel)",
   "language": "python",
   "name": "python3"
  },
  "language_info": {
   "codemirror_mode": {
    "name": "ipython",
    "version": 3
   },
   "file_extension": ".py",
   "mimetype": "text/x-python",
   "name": "python",
   "nbconvert_exporter": "python",
   "pygments_lexer": "ipython3",
   "version": "3.10.8"
  }
 },
 "nbformat": 4,
 "nbformat_minor": 5
}
