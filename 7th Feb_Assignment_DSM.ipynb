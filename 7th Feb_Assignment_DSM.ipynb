{
 "cells": [
  {
   "cell_type": "code",
   "execution_count": 6,
   "id": "1052bff5-cbae-4867-b1b5-5dd3f3632975",
   "metadata": {},
   "outputs": [
    {
     "name": "stdin",
     "output_type": "stream",
     "text": [
      " AbSJLD!I!#!#o8!#(!($&!BNL!#UK13,!#!DHBJ!Kxbk1wb11313\n"
     ]
    },
    {
     "name": "stdout",
     "output_type": "stream",
     "text": [
      "Valid Password\n"
     ]
    }
   ],
   "source": [
    "a=input()\n",
    "if(len(a)<10):\n",
    "    print(\"Invalid Password\")\n",
    "    exit()\n",
    "cnt_upper=0\n",
    "cnt_lower=0\n",
    "cnt_number=0\n",
    "cnt_alnum=0\n",
    "for i in a:\n",
    "    if i.isupper(): cnt_upper+=1\n",
    "    if i.islower(): cnt_lower+=1\n",
    "    if i.isdigit(): cnt_number+=1\n",
    "    if i.isalnum(): cnt_alnum+=1\n",
    "if cnt_upper>=2 and cnt_lower>=2 and cnt_number>=1 and cnt_alnum>=3: print(\"Valid Password\")\n",
    "else: print(\"InValid Password\")"
   ]
  },
  {
   "cell_type": "code",
   "execution_count": 11,
   "id": "b709ec54-4bac-4791-ac48-83bd133d3fc7",
   "metadata": {},
   "outputs": [
    {
     "name": "stdin",
     "output_type": "stream",
     "text": [
      "Input the character you want to check the starting of the function for u\n",
      "Enter the string tujo\n"
     ]
    },
    {
     "name": "stdout",
     "output_type": "stream",
     "text": [
      "False\n"
     ]
    }
   ],
   "source": [
    "a=input(\"Input the character you want to check the starting of the function for\")\n",
    "while len(a)>1: a=input(\"Please enter only one character\")\n",
    "b=input(\"Enter the string\")\n",
    "k= lambda b,a:True if b[0]==a else False \n",
    "print(k(b,a))"
   ]
  },
  {
   "cell_type": "code",
   "execution_count": 13,
   "id": "cdc570cb-99c6-45fb-b643-4cfdb9a079e4",
   "metadata": {},
   "outputs": [
    {
     "name": "stdin",
     "output_type": "stream",
     "text": [
      "Enter the string 12232\n"
     ]
    },
    {
     "name": "stdout",
     "output_type": "stream",
     "text": [
      "All numeric\n"
     ]
    }
   ],
   "source": [
    "from functools import reduce\n",
    "a=input(\"Enter the string\")\n",
    "k=reduce( lambda x,y:x and y.isdigit(),a)\n",
    "print(\"All numeric\" if k==True else \"All Characters of the string are not numeric\")"
   ]
  },
  {
   "cell_type": "code",
   "execution_count": 3,
   "id": "123b45fd-9937-40b6-8734-920d55e3d01c",
   "metadata": {},
   "outputs": [
    {
     "name": "stdin",
     "output_type": "stream",
     "text": [
      "Enter the number of items in the list 2\n",
      "Enter the fruit mango\n",
      "Enter the number 23\n",
      "Enter the fruit rted\n",
      "Enter the number 4\n"
     ]
    },
    {
     "name": "stdout",
     "output_type": "stream",
     "text": [
      "[('mango', 23), ('rted', 4)]\n"
     ]
    }
   ],
   "source": [
    "n=int(input(\"Enter the number of items in the list\"))\n",
    "l=[]\n",
    "while n>0:\n",
    "    k=input(\"Enter the fruit\")\n",
    "    u=int(input(\"Enter the number\"))\n",
    "    l.append(tuple({k,u}))\n",
    "    n-=1\n",
    "l=sorted(l)\n",
    "print(l)"
   ]
  },
  {
   "cell_type": "code",
   "execution_count": 5,
   "id": "286287de-49df-4d52-8b52-74044f90909b",
   "metadata": {},
   "outputs": [
    {
     "name": "stdout",
     "output_type": "stream",
     "text": [
      "[1, 4, 9, 16, 25, 36, 49, 64, 81, 100]\n"
     ]
    }
   ],
   "source": [
    "l=[i*i for i in range(1,11)]\n",
    "print(l)"
   ]
  },
  {
   "cell_type": "code",
   "execution_count": 7,
   "id": "4c5db54b-e0ef-48af-9a59-bd978e6ab3b2",
   "metadata": {},
   "outputs": [
    {
     "name": "stdout",
     "output_type": "stream",
     "text": [
      "[1.0, 1.2599210498948732, 1.4422495703074083, 1.5874010519681994, 1.7099759466766968, 1.8171205928321397, 1.912931182772389, 2.0, 2.080083823051904, 2.154434690031884]\n"
     ]
    }
   ],
   "source": [
    "import math\n",
    "l=[math.pow(i,1/3) for i in range(1,11)]\n",
    "print(l)"
   ]
  },
  {
   "cell_type": "code",
   "execution_count": 9,
   "id": "cb599b1f-8503-4664-afc4-ce5af2643f24",
   "metadata": {},
   "outputs": [
    {
     "name": "stdin",
     "output_type": "stream",
     "text": [
      "Enter the number 23\n"
     ]
    },
    {
     "name": "stdout",
     "output_type": "stream",
     "text": [
      "Number is odd\n"
     ]
    }
   ],
   "source": [
    "a=int(input(\"Enter the number\"))\n",
    "k= lambda a:\"Number is even\" if a%2==0 else \"Number is odd\"\n",
    "print(k(a))"
   ]
  },
  {
   "cell_type": "code",
   "execution_count": 16,
   "id": "8a8c0ee3-3721-4b57-af3d-5b0f40be9499",
   "metadata": {},
   "outputs": [
    {
     "name": "stdin",
     "output_type": "stream",
     "text": [
      "Enter the list:  2 23 3212\n"
     ]
    },
    {
     "name": "stdout",
     "output_type": "stream",
     "text": [
      "[2, 3212]\n"
     ]
    }
   ],
   "source": [
    "l=list(input(\"Enter the list\"))\n",
    "k=list(filter(lambda x:True if x%2==0 else False,l))\n",
    "print(k)"
   ]
  },
  {
   "cell_type": "code",
   "execution_count": 20,
   "id": "3f8644e7-f83c-4831-86df-1fb84e12d889",
   "metadata": {},
   "outputs": [
    {
     "name": "stdout",
     "output_type": "stream",
     "text": [
      "[1, 3, 5, 7, 9]\n"
     ]
    }
   ],
   "source": [
    "l=[1,2,3,4,5,6,7,8,9,10]\n",
    "l=list(filter(lambda x:True if x%2!=0 else False,l))\n",
    "print(l)"
   ]
  },
  {
   "cell_type": "code",
   "execution_count": null,
   "id": "851641e5-c66e-462c-bf08-81638883bcd1",
   "metadata": {},
   "outputs": [],
   "source": [
    "[1,2,3,4,5,6,-1,-2,-3,-4,-5,0]"
   ]
  }
 ],
 "metadata": {
  "kernelspec": {
   "display_name": "Python 3 (ipykernel)",
   "language": "python",
   "name": "python3"
  },
  "language_info": {
   "codemirror_mode": {
    "name": "ipython",
    "version": 3
   },
   "file_extension": ".py",
   "mimetype": "text/x-python",
   "name": "python",
   "nbconvert_exporter": "python",
   "pygments_lexer": "ipython3",
   "version": "3.10.8"
  }
 },
 "nbformat": 4,
 "nbformat_minor": 5
}
