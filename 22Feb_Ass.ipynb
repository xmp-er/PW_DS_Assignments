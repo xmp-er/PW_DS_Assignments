{
 "cells": [
  {
   "cell_type": "code",
   "execution_count": 3,
   "id": "8c5df6ab-a2fa-434a-b4ec-8a6f13e4cd50",
   "metadata": {},
   "outputs": [
    {
     "name": "stdout",
     "output_type": "stream",
     "text": [
      "Collecting lxml\n",
      "  Downloading lxml-4.9.2-cp310-cp310-manylinux_2_17_x86_64.manylinux2014_x86_64.manylinux_2_24_x86_64.whl (7.1 MB)\n",
      "\u001b[2K     \u001b[90m━━━━━━━━━━━━━━━━━━━━━━━━━━━━━━━━━━━━━━━━\u001b[0m \u001b[32m7.1/7.1 MB\u001b[0m \u001b[31m7.4 MB/s\u001b[0m eta \u001b[36m0:00:00\u001b[0m00:01\u001b[0m00:01\u001b[0m\n",
      "\u001b[?25hInstalling collected packages: lxml\n",
      "Successfully installed lxml-4.9.2\n",
      "Note: you may need to restart the kernel to use updated packages.\n"
     ]
    }
   ],
   "source": [
    "pip install lxml"
   ]
  },
  {
   "cell_type": "code",
   "execution_count": 4,
   "id": "75f29711-ac64-4771-81c9-797aee876737",
   "metadata": {},
   "outputs": [],
   "source": [
    "import pandas as pd\n",
    "import lxml"
   ]
  },
  {
   "cell_type": "code",
   "execution_count": 5,
   "id": "6acc00ef-c835-41ce-b347-6b0981586c81",
   "metadata": {},
   "outputs": [
    {
     "name": "stdout",
     "output_type": "stream",
     "text": [
      "0     4\n",
      "1     8\n",
      "2    15\n",
      "3    16\n",
      "4    23\n",
      "5    42\n",
      "dtype: int64\n"
     ]
    }
   ],
   "source": [
    "# ANS-1-\n",
    "l=[4, 8, 15, 16, 23,42]\n",
    "list_1=pd.Series(l)\n",
    "print(list_1)"
   ]
  },
  {
   "cell_type": "code",
   "execution_count": 6,
   "id": "1e6d2730-4d10-4798-a5f6-dc26ae433a97",
   "metadata": {},
   "outputs": [
    {
     "name": "stdout",
     "output_type": "stream",
     "text": [
      "10\n",
      "0         4\n",
      "1         8\n",
      "2        15\n",
      "3      name\n",
      "4       age\n",
      "5    utopia\n",
      "6        23\n",
      "7        42\n",
      "8         2\n",
      "9       ert\n",
      "dtype: object\n"
     ]
    }
   ],
   "source": [
    "# ANS-2-\n",
    "l=[4, 8, 15, 'name','age','utopia', 23,42,'2','ert']\n",
    "print(len(l))\n",
    "list_2=pd.Series(l)\n",
    "print(list_2)"
   ]
  },
  {
   "cell_type": "code",
   "execution_count": 7,
   "id": "074864fc-1fb4-465c-b1a7-5dcfe35704c2",
   "metadata": {},
   "outputs": [
    {
     "name": "stdout",
     "output_type": "stream",
     "text": [
      "     Name Age  Gender\n",
      "0   Alice  25  Female\n",
      "1     Bob  30    Male\n",
      "2  Claire  27  Female\n"
     ]
    }
   ],
   "source": [
    "#ANS-3-\n",
    "d={\n",
    "    'Name':['Alice','Bob','Claire'],\n",
    "    'Age':['25','30','27'],\n",
    "    'Gender':['Female','Male','Female']\n",
    "  }\n",
    "d=pd.DataFrame(d)\n",
    "print(d)"
   ]
  },
  {
   "cell_type": "code",
   "execution_count": null,
   "id": "6a1e1628-d33a-4986-828e-8d10b3d50f4f",
   "metadata": {},
   "outputs": [],
   "source": [
    "#ANS-4-\n",
    "A dataframe is a collection of rows and columns whereas a individual row or column is considered to be a Series in pandas.\n",
    "Ex:-In the above answer,the dataframe contains the columns name,age and gender and all their values in it but the indiviual 0th,\n",
    "1st or 2nd row will be considered a Series and the same goes for any of the column Name,Age or Gender."
   ]
  },
  {
   "cell_type": "code",
   "execution_count": null,
   "id": "f29ba01a-6ab2-4984-a622-7764b8de78c6",
   "metadata": {},
   "outputs": [],
   "source": [
    "#Ans-5-\n",
    "Pandas provides a wide range of functions for data manipulation in a DataFrame. Some of the most common functions include:\n",
    "\n",
    "head(): Returns the first n rows of the DataFrame.\n",
    "tail(): Returns the last n rows of the DataFrame."
   ]
  },
  {
   "cell_type": "code",
   "execution_count": null,
   "id": "124d2090-9e9f-4c97-a7ce-3bf8c3d36a96",
   "metadata": {},
   "outputs": [],
   "source": [
    "#ANS-6-\n",
    "In Pandas, both Series and DataFrame are mutable in nature, which means that their values can be modified after they are created. However, Panel is deprecated in the latest version of Pandas \n",
    "and has been replaced by the MultiIndex functionality, which is also mutable."
   ]
  },
  {
   "cell_type": "code",
   "execution_count": 8,
   "id": "3bc16495-e931-4bfc-8c3a-a397e7ddc7e5",
   "metadata": {},
   "outputs": [
    {
     "name": "stdout",
     "output_type": "stream",
     "text": [
      "   A  B  C\n",
      "0  1  4  7\n",
      "1  2  5  8\n",
      "2  3  6  9\n"
     ]
    }
   ],
   "source": [
    "#ANS-7-\n",
    "s1=pd.Series([1,2,3])\n",
    "s2=pd.Series([4,5,6])\n",
    "s3=pd.Series([7,8,9])\n",
    "df=pd.DataFrame({'A':s1,'B':s2,'C':s3})\n",
    "print(df)"
   ]
  },
  {
   "cell_type": "code",
   "execution_count": null,
   "id": "6c673201-a181-4a24-9293-6bc4656b7734",
   "metadata": {},
   "outputs": [],
   "source": []
  }
 ],
 "metadata": {
  "kernelspec": {
   "display_name": "Python 3 (ipykernel)",
   "language": "python",
   "name": "python3"
  },
  "language_info": {
   "codemirror_mode": {
    "name": "ipython",
    "version": 3
   },
   "file_extension": ".py",
   "mimetype": "text/x-python",
   "name": "python",
   "nbconvert_exporter": "python",
   "pygments_lexer": "ipython3",
   "version": "3.10.8"
  }
 },
 "nbformat": 4,
 "nbformat_minor": 5
}
