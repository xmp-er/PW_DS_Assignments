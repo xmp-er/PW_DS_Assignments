{
 "cells": [
  {
   "cell_type": "markdown",
   "id": "8b9eb87e-9edb-43bb-a726-aedbf878ac70",
   "metadata": {},
   "source": [
    "the \"open(<name of the file we want to open>,<permission to be given>)\" is used to open the file,only the permission we give to the object like \"r\" or \"w\" differ."
   ]
  },
  {
   "cell_type": "markdown",
   "id": "d9ad5f19-3083-4ce6-90eb-94d7bea0f3ea",
   "metadata": {},
   "source": [
    "close function is used to close a file on which operations have been performed and then delete the object that had the file open,it flushes all the operations we performed to the file and the result of our actions to the file when it was open will be visible on the file."
   ]
  },
  {
   "cell_type": "code",
   "execution_count": 7,
   "id": "1c937e45-78f5-40a6-a1aa-7a7a4711f18f",
   "metadata": {},
   "outputs": [
    {
     "name": "stdout",
     "output_type": "stream",
     "text": [
      "I want to become a Data Scientist\n"
     ]
    }
   ],
   "source": [
    "f=open(\"t.txt\",\"w\")\n",
    "f.write(\"I want to become a Data Scientist\")\n",
    "f.close()\n",
    "with open(\"t.txt\",\"r\") as f:\n",
    "    print(f.read())\n",
    "    f.close()"
   ]
  },
  {
   "cell_type": "markdown",
   "id": "a4f53200-3802-4b07-8af8-f4639c37e7f9",
   "metadata": {},
   "source": [
    "read() will print all the data whereas readline() is used to read a single line from the file and when again called will print the next line whereas readlines() will return all the lines where each line is a string and all of them are enclosed in a list.\n"
   ]
  },
  {
   "cell_type": "markdown",
   "id": "73ed23d6-ebd0-474a-b00f-aa8652a0f983",
   "metadata": {},
   "source": [
    "use the with statement to read and write to files as \"with open(\"t.txt\",\"w\") as f:\" as it will automatically close itself when the block of code."
   ]
  },
  {
   "cell_type": "markdown",
   "id": "1c20e492-fb9b-4729-af8c-444e31fd0ff5",
   "metadata": {},
   "source": [
    "the write() will write a single string into the file whereas writelines(<list of string>) will write the strings in the list each as a seperate line. "
   ]
  }
 ],
 "metadata": {
  "kernelspec": {
   "display_name": "Python 3 (ipykernel)",
   "language": "python",
   "name": "python3"
  },
  "language_info": {
   "codemirror_mode": {
    "name": "ipython",
    "version": 3
   },
   "file_extension": ".py",
   "mimetype": "text/x-python",
   "name": "python",
   "nbconvert_exporter": "python",
   "pygments_lexer": "ipython3",
   "version": "3.10.8"
  }
 },
 "nbformat": 4,
 "nbformat_minor": 5
}
